{
  "cells": [
    {
      "cell_type": "code",
      "execution_count": null,
      "metadata": {
        "colab": {
          "base_uri": "https://localhost:8080/"
        },
        "id": "HeOFTKgiojVe",
        "outputId": "cf053ee3-7e69-4f9c-8fe9-7b0aca95287e"
      },
      "outputs": [
        {
          "output_type": "stream",
          "name": "stdout",
          "text": [
            "Mounted at /content/gdrive\n",
            "/content/gdrive/My Drive/CSE327_Final_Project\n"
          ]
        }
      ],
      "source": [
        "# Mount your google drive where you've saved your assignment folder\n",
        "from google.colab import drive\n",
        "drive.mount('/content/gdrive')\n",
        "\n",
        "# Change the current working directory to the assignment folder in your google drive\n",
        "%cd 'gdrive/My Drive/CSE327_Final_Project'\n",
        "\n",
        "# Import the necessary modules and functions\n",
        "import cv2\n",
        "import glob\n",
        "import matplotlib.pyplot as plt\n",
        "import numpy as np\n",
        "import os\n",
        "import random\n",
        "import tensorflow as tf\n",
        "import time\n",
        "\n",
        "from keras.layers import Activation, BatchNormalization, concatenate, Conv2D, Conv2DTranspose, Dropout, Input, Lambda, MaxPool2D, MaxPooling2D, UpSampling2D\n",
        "from keras.models import Model, load_model\n",
        "from keras.optimizers import Adam\n",
        "from sklearn.model_selection import train_test_split\n",
        "from skimage import filters\n"
      ]
    },
    {
      "cell_type": "code",
      "execution_count": null,
      "metadata": {
        "id": "g_X1ztrk3ueB"
      },
      "outputs": [],
      "source": [
        "def img_norm(image: np.ndarray, full: bool) -> np.ndarray:\n",
        "    \"\"\"\n",
        "    Normalizes an image between [-1, 1] or [0, 1].\n",
        "\n",
        "    Parameters:\n",
        "    image (np.ndarray): The image to be normalized.\n",
        "    full (bool): If True, the image is normalized between [-1, 1]. If False, it is normalized between [0, 1].\n",
        "\n",
        "    Returns:\n",
        "    np.ndarray: The normalized image.\n",
        "    \"\"\"\n",
        "    image_range = np.max(image) - np.min(image)\n",
        "\n",
        "    if full:\n",
        "        normalized_image = (2 * (image - np.min(image)) - image_range) / image_range\n",
        "    else:\n",
        "        normalized_image = (image - np.min(image)) / image_range\n",
        "\n",
        "    return normalized_image\n"
      ]
    },
    {
      "cell_type": "code",
      "execution_count": null,
      "metadata": {
        "id": "sCxcXLa3-NhI"
      },
      "outputs": [],
      "source": [
        "# Image size\n",
        "img_size = (256, 256)"
      ]
    },
    {
      "cell_type": "code",
      "execution_count": null,
      "metadata": {
        "id": "A6uGkUME3ujl"
      },
      "outputs": [],
      "source": [
        "from typing import Optional, Tuple\n",
        "\n",
        "def quadrants(data: np.ndarray, mask: np.ndarray, resize: Optional[Tuple[int, int]]=None) -> Tuple[np.ndarray, np.ndarray]:\n",
        "\n",
        "  \"\"\"\n",
        "  Breaks dataloaders of images and masks into quadrants for faster results.\n",
        "\n",
        "  Parameters:\n",
        "  images (np.ndarray): The images to be split into quadrants.\n",
        "  mask_images (np.ndarray): The mask images to be split into quadrants.\n",
        "  resize (Optional[Tuple[int, int]]): An optional tuple with the desired size for the quadrants. If specified, the quadrants will be resized to the specified size.\n",
        "\n",
        "  Returns:\n",
        "  Tuple[np.ndarray, np.ndarray]: A tuple with the quadrants of the images and mask images.\n",
        "  \"\"\"\n",
        "\n",
        "  if resize:\n",
        "    assert type(resize) == tuple, f'Tuple expected in quadrants(), received {type(resize)}'\n",
        "\n",
        "  img_size = resize\n",
        "\n",
        "  new_data = []\n",
        "  new_mask = []\n",
        "\n",
        "  for i in range(len(data)):\n",
        "    img = data[i,:,:]\n",
        "    mask_labels = mask[i,:,:]\n",
        "\n",
        "    top, bottom = np.split(img, 2, axis=0)\n",
        "    top_mask, bottom_mask = np.split(mask_labels, 2, axis=0)\n",
        "\n",
        "    top_left, top_right = np.split(top, 2, axis=1)\n",
        "    bottom_left, bottom_right = np.split(bottom, 2, axis=1)\n",
        "\n",
        "    top_left_mask, top_right_mask = np.split(top_mask, 2, axis=1)\n",
        "    bottom_left_mask, bottom_right_mask = np.split(bottom_mask, 2, axis=1)\n",
        "\n",
        "    if resize:\n",
        "      new_data.append(cv2.resize(top_left, img_size))\n",
        "      new_data.append(cv2.resize(top_right, img_size))\n",
        "      new_data.append(cv2.resize(bottom_left, img_size))\n",
        "      new_data.append(cv2.resize(bottom_right, img_size))\n",
        "\n",
        "      new_mask.append(cv2.resize(top_left_mask, img_size))\n",
        "      new_mask.append(cv2.resize(top_right_mask, img_size))\n",
        "      new_mask.append(cv2.resize(bottom_left_mask, img_size))\n",
        "      new_mask.append(cv2.resize(bottom_right_mask, img_size))\n",
        "\n",
        "    else:\n",
        "      new_data.append(top_left)\n",
        "      new_data.append(top_right)\n",
        "      new_data.append(bottom_left)\n",
        "      new_data.append(bottom_right)\n",
        "\n",
        "      new_mask.append(top_left_mask)\n",
        "      new_mask.append(top_right_mask)\n",
        "      new_mask.append(bottom_left_mask)\n",
        "      new_mask.append(bottom_right_mask)\n",
        "\n",
        "  new_data = np.array(new_data)\n",
        "  new_mask = np.array(new_mask)\n",
        "\n",
        "  return new_data, new_mask\n",
        "\n",
        ""
      ]
    },
    {
      "cell_type": "code",
      "execution_count": null,
      "metadata": {
        "colab": {
          "base_uri": "https://localhost:8080/"
        },
        "id": "S7Ft4WYvPutG",
        "outputId": "c56dff55-bb08-487d-e986-d99c152eed5d"
      },
      "outputs": [
        {
          "output_type": "stream",
          "name": "stdout",
          "text": [
            "Number of data images: 120\n",
            "Number of corresponding masks: 120\n",
            "\n",
            "Number of data images after rotation: 240\n",
            "Number of corresponding masks after rotation: 240\n",
            "\n",
            "Number of data images after quartering: 3840\n",
            "Number of corresponding masks after quartering: 3840\n",
            "\n",
            "Dimensions:  (2000, 64, 64) (2000, 64, 64)\n",
            "Mask labels :  [0 1]\n"
          ]
        }
      ],
      "source": [
        "def load_data(augment: bool, num: int) -> Tuple[np.ndarray, np.ndarray]:\n",
        "\n",
        "  \"\"\"\n",
        "  Loads and processes images and masks from the specified directories.\n",
        "\n",
        "  Parameters:\n",
        "  augment (bool): A flag indicating whether the data should be augmented with rotated versions of the images and masks.\n",
        "  num (int): An integer specifying the length of the dataloaders.\n",
        "\n",
        "  Returns:\n",
        "  Tuple[np.ndarray, np.ndarray]: A tuple with the processed data and masks.\n",
        "  \"\"\"\n",
        "\n",
        "  img = []\n",
        "  masks = []\n",
        "\n",
        "  data_path = './data/MITOCHONDRIA/trainingN/'\n",
        "  mask_path = './data/MITOCHONDRIA/trainingMaskN/'\n",
        "\n",
        "  data_path2 = './data/MITOCHONDRIA/testingN/'\n",
        "  mask_path2 = './data/MITOCHONDRIA/testingMaskN/'\n",
        "\n",
        "  ids = [img_path[30:-4] for img_path in glob.glob(data_path + '*')]\n",
        "\n",
        "  ids.sort()\n",
        "\n",
        "  img2 = []\n",
        "  masks2 = []\n",
        "\n",
        "  for id in ids:\n",
        "\n",
        "    # Image paths\n",
        "    img_data_path = data_path + id + '.jpg'\n",
        "    img_data_path2 = data_path2 + id + '.jpg'\n",
        "\n",
        "    # Add images\n",
        "    img.append(cv2.resize(cv2.imread(img_data_path, 0), img_size))\n",
        "    img2.append(cv2.resize(cv2.imread(img_data_path2, 0), img_size))\n",
        "\n",
        "  for id in ids:\n",
        "\n",
        "    # Mask paths\n",
        "    mask_data_path = mask_path + id + '.jpg'\n",
        "    mask_data_path2 = mask_path2 + id + '.jpg'\n",
        "\n",
        "    # Read masks in\n",
        "    mask = cv2.resize(cv2.imread(mask_data_path, 0), img_size)\n",
        "    mask2 = cv2.resize(cv2.imread(mask_data_path2, 0), img_size)\n",
        "\n",
        "    # Threshold masks\n",
        "    mask[mask > 0] = 1\n",
        "    mask2[mask2 > 0] = 1\n",
        "\n",
        "    # Convert masks to numpy arrays\n",
        "    mask = np.array(mask)\n",
        "    mask2 = np.array(mask2)\n",
        "\n",
        "    masks.append(mask)\n",
        "    masks2.append(mask2)\n",
        "\n",
        "  img.extend(img2)\n",
        "  masks.extend(masks2)\n",
        "\n",
        "  print(f'Number of data images: {len(img)}')\n",
        "  print(f'Number of corresponding masks: {len(masks)}\\n')\n",
        "\n",
        "  # Augmentations\n",
        "  if augment:\n",
        "\n",
        "    height, width = img_size\n",
        "\n",
        "    center = (height // 2, width // 2)\n",
        "\n",
        "    for i in range(len(img)):\n",
        "\n",
        "        # Rotate 0, 90, 180, 270 degrees\n",
        "\n",
        "        degree = random.randrange(0, 3)*90 + 90\n",
        "\n",
        "        M = cv2.getRotationMatrix2D(center, degree, 1.0)\n",
        "\n",
        "        rotated_img = cv2.warpAffine(np.array(img[i]), M, img_size)\n",
        "        rotated_mask = cv2.warpAffine(np.array(masks[i]), M, img_size)\n",
        "\n",
        "        img.append(rotated_img)\n",
        "        masks.append(rotated_mask)\n",
        "\n",
        "    print(f'Number of data images after rotation: {len(img)}')\n",
        "    print(f'Number of corresponding masks after rotation: {len(masks)}\\n')\n",
        "\n",
        "  img = np.array(img)\n",
        "  masks = np.array(masks)\n",
        "\n",
        "  # Split all data into quadrants\n",
        "  quadrant_img1, quadrant_mask1 = quadrants(img, masks)\n",
        "  quadrant_img2, quadrant_mask2 = quadrants(quadrant_img1, quadrant_mask1)\n",
        "\n",
        "  # Shuffle all data and masks together at once\n",
        "  img_masks = list(zip(quadrant_img2, quadrant_mask2))\n",
        "  random.shuffle(img_masks)\n",
        "  img, masks = zip(*img_masks)\n",
        "\n",
        "  print(f'Number of data images after quartering: {len(img)}')\n",
        "  print(f'Number of corresponding masks after quartering: {len(masks)}\\n')\n",
        "\n",
        "  # Take last 50 images (they're random as everything was randomly shuffled)\n",
        "  img = np.array(img[:num])\n",
        "  masks = np.array(masks[:num])\n",
        "\n",
        "  # Normalize images\n",
        "  img_data = img_norm(img, full=False)\n",
        "  mask_data = img_norm(masks, full=False)\n",
        "\n",
        "  # Expand dimensions\n",
        "  img_data = np.expand_dims(img_data, axis=3)\n",
        "  mask_data = np.expand_dims(mask_data, axis=3)\n",
        "\n",
        "  print(\"Dimensions: \", img.shape, masks.shape)\n",
        "  print(\"Mask labels : \", np.unique(masks))\n",
        "\n",
        "  return img_data, mask_data\n",
        "\n",
        "\n",
        "# Load data in, augment=True\n",
        "img_data, mask_data = load_data(augment=True, num=2000)\n",
        "\n",
        "# Load trainloaders and testloaders\n",
        "Xtrainloader, Xtestloader, ytrainloader, ytestloader = train_test_split(img_data, mask_data, test_size = 0.30, random_state = 42)"
      ]
    },
    {
      "cell_type": "code",
      "execution_count": null,
      "metadata": {
        "colab": {
          "base_uri": "https://localhost:8080/",
          "height": 555
        },
        "id": "8NLWlCWzxYXa",
        "outputId": "6bd3b5a2-9f6e-4168-ef35-1ade2acd8742"
      },
      "outputs": [
        {
          "output_type": "display_data",
          "data": {
            "text/plain": [
              "<Figure size 432x288 with 1 Axes>"
            ],
            "image/png": "[encoded data removed]"
          },
          "metadata": {
            "needs_background": "light"
          }
        },
        {
          "output_type": "display_data",
          "data": {
            "text/plain": [
              "<Figure size 432x288 with 1 Axes>"
            ],
            "image/png": "[encoded data removed]"
          },
          "metadata": {
            "needs_background": "light"
          }
        },
        {
          "output_type": "stream",
          "name": "stdout",
          "text": [
            "\n",
            "Unique values in mask: [0. 1.]\n"
          ]
        }
      ],
      "source": [
        "# Function for showing an image and a corresponding mask\n",
        "def img_show(x: np.ndarray, y: np.ndarray, num: int = 0) -> None:\n",
        "  \"\"\"\n",
        "  Shows an image and a corresponding mask.\n",
        "\n",
        "  Parameters:\n",
        "  images (np.ndarray): The images to be displayed.\n",
        "  mask_images (np.ndarray): The mask images to be displayed.\n",
        "  num (int): The index of the image and mask to be displayed.\n",
        "\n",
        "  Returns:\n",
        "  None.\n",
        "  \"\"\"\n",
        "\n",
        "  img = x[num,:,:, 0]\n",
        "  mask = y[num,:,:, 0]\n",
        "\n",
        "  plt.imshow(img, cmap='gray')\n",
        "  plt.show()\n",
        "  plt.imshow(mask, cmap='gray')\n",
        "  plt.show()\n",
        "\n",
        "  print(f'\\nUnique values in mask: {np.unique(mask)}')\n",
        "\n",
        "img_show(Xtrainloader, ytrainloader, random.randrange(0, len(Xtrainloader) + 1))"
      ]
    },
    {
      "cell_type": "code",
      "execution_count": null,
      "metadata": {
        "id": "MFdW6lonMTr0"
      },
      "outputs": [],
      "source": [
        "import tensorflow as tf\n",
        "\n",
        "def Encoder(x, n):\n",
        "  \"\"\"\n",
        "  Encoder block of the U-Net model.\n",
        "\n",
        "  Args:\n",
        "    x: Input tensor.\n",
        "    n: Number of filters to use in the convolutional layers.\n",
        "\n",
        "  Returns:\n",
        "    A tuple containing the output tensor and the max-pooled tensor.\n",
        "  \"\"\"\n",
        "  x = Conv2D(n, 3, padding='same')(x)\n",
        "  x = BatchNormalization()(x)\n",
        "  p = Dropout(0.1)(x)\n",
        "  x = Activation(\"relu\")(x)\n",
        "  x = Conv2D(n, 3, padding='same')(x)\n",
        "  x = BatchNormalization()(x)\n",
        "  p = Dropout(0.1)(x)\n",
        "  x = Activation(\"relu\")(x)\n",
        "  p = MaxPool2D((2, 2)) (x)\n",
        "\n",
        "  return x, p\n",
        "\n",
        "def Decoder(x, n, encoder_features):\n",
        "  \"\"\"\n",
        "  Decoder block of the U-Net model.\n",
        "\n",
        "  Args:\n",
        "    x: Input tensor.\n",
        "    n: Number of filters to use in the convolutional layers.\n",
        "    encoder_features: Output tensor from the corresponding encoder block.\n",
        "\n",
        "  Returns:\n",
        "    The output tensor.\n",
        "  \"\"\"\n",
        "  x = Conv2DTranspose(n, (2, 2), strides=2, padding=\"same\")(x)\n",
        "  x = concatenate([x, encoder_features])\n",
        "  x = Conv2D(n, 3, padding='same')(x)\n",
        "  x = BatchNormalization()(x)\n",
        "  x = Dropout(0.1)(x)\n",
        "  x = Activation(\"relu\")(x)\n",
        "  x = Conv2D(n, 3, padding='same')(x)\n",
        "  x = BatchNormalization()(x)\n",
        "  p = Dropout(0.1)(x)\n",
        "  x = Activation(\"relu\")(x)\n",
        "\n",
        "  return x\n",
        "\n",
        "def get_Unet(img_size):\n",
        "  \"\"\"\n",
        "  Builds the U-Net model.\n",
        "\n",
        "  Args:\n",
        "    img_size: Size of the input image, in the format (height, width, channels).\n",
        "\n",
        "  Returns:\n",
        "    The U-Net model.\n",
        "  \"\"\"\n",
        "  inputs = tf.keras.Input(img_size)\n",
        "\n",
        "  e1, p1 = Encoder(inputs, 64)\n",
        "  e2, p2 = Encoder(p1, 128)\n",
        "  e3, p3 = Encoder(p2, 256)\n",
        "  e4, p4 = Encoder(p3, 512)\n",
        "\n",
        "  x = Conv2D(1024, 3, padding='same')(p4)\n",
        "  x = BatchNormalization()(x)\n",
        "  x = Activation(\"relu\")(x)\n",
        "  x = Conv2D(1024, 3, padding='same')(p4)\n",
        "  x = BatchNormalization()(x)\n",
        "  x = Activation(\"relu\")(x)\n",
        "\n",
        "  d1 = Decoder(x, 512, e4)\n",
        "  d2 = Decoder(d1, 256, e3)\n",
        "  d3 = Decoder(d2, 128, e2)\n",
        "  d4 = Decoder(d3, 64, e1)\n",
        "\n",
        "  outputs = Conv2D(1, 1, padding=\"same\", activation='sigmoid')(d4)\n",
        "  model = Model(inputs, outputs, name=\"UNet\")\n",
        "\n",
        "  return model\n"
      ]
    },
    {
      "cell_type": "code",
      "execution_count": null,
      "metadata": {
        "colab": {
          "base_uri": "https://localhost:8080/"
        },
        "id": "wsj3oRiFZWat",
        "outputId": "cdadb0ea-c65f-4ce3-bcf3-1b065b0cde2e"
      },
      "outputs": [
        {
          "output_type": "stream",
          "name": "stdout",
          "text": [
            "Input shape is: (64, 64, 1)\n",
            "Epoch 1/25\n",
            "140/140 [==============================] - 593s 4s/step - loss: 0.5856 - accuracy: 0.7068 - val_loss: 0.6376 - val_accuracy: 0.8306\n",
            "Epoch 2/25\n",
            "140/140 [==============================] - 590s 4s/step - loss: 0.3984 - accuracy: 0.9031 - val_loss: 0.3914 - val_accuracy: 0.9077\n",
            "Epoch 3/25\n",
            "140/140 [==============================] - 587s 4s/step - loss: 0.2445 - accuracy: 0.9587 - val_loss: 0.3119 - val_accuracy: 0.9078\n",
            "Epoch 4/25\n",
            "140/140 [==============================] - 590s 4s/step - loss: 0.1910 - accuracy: 0.9658 - val_loss: 0.2362 - val_accuracy: 0.9371\n",
            "Epoch 5/25\n",
            "140/140 [==============================] - 589s 4s/step - loss: 0.1617 - accuracy: 0.9720 - val_loss: 0.1899 - val_accuracy: 0.9651\n",
            "Epoch 6/25\n",
            "140/140 [==============================] - 589s 4s/step - loss: 0.1444 - accuracy: 0.9750 - val_loss: 0.1468 - val_accuracy: 0.9704\n",
            "Epoch 7/25\n",
            "140/140 [==============================] - 588s 4s/step - loss: 0.1311 - accuracy: 0.9778 - val_loss: 0.1344 - val_accuracy: 0.9712\n",
            "Epoch 8/25\n",
            "140/140 [==============================] - 588s 4s/step - loss: 0.1213 - accuracy: 0.9796 - val_loss: 0.1439 - val_accuracy: 0.9714\n",
            "Epoch 9/25\n",
            "140/140 [==============================] - 597s 4s/step - loss: 0.1157 - accuracy: 0.9801 - val_loss: 0.1217 - val_accuracy: 0.9732\n",
            "Epoch 10/25\n",
            "140/140 [==============================] - 596s 4s/step - loss: 0.1090 - accuracy: 0.9814 - val_loss: 0.1192 - val_accuracy: 0.9739\n",
            "Epoch 11/25\n",
            "140/140 [==============================] - 598s 4s/step - loss: 0.1026 - accuracy: 0.9828 - val_loss: 0.1149 - val_accuracy: 0.9740\n",
            "Epoch 12/25\n",
            "140/140 [==============================] - 595s 4s/step - loss: 0.0997 - accuracy: 0.9828 - val_loss: 0.1122 - val_accuracy: 0.9732\n",
            "Epoch 13/25\n",
            "140/140 [==============================] - 599s 4s/step - loss: 0.0953 - accuracy: 0.9835 - val_loss: 0.1111 - val_accuracy: 0.9753\n",
            "Epoch 14/25\n",
            "140/140 [==============================] - 598s 4s/step - loss: 0.0935 - accuracy: 0.9835 - val_loss: 0.1099 - val_accuracy: 0.9752\n",
            "Epoch 15/25\n",
            "140/140 [==============================] - 597s 4s/step - loss: 0.0883 - accuracy: 0.9845 - val_loss: 0.1052 - val_accuracy: 0.9741\n",
            "Epoch 16/25\n",
            "140/140 [==============================] - 595s 4s/step - loss: 0.0862 - accuracy: 0.9847 - val_loss: 0.1033 - val_accuracy: 0.9751\n",
            "Epoch 17/25\n",
            "140/140 [==============================] - 594s 4s/step - loss: 0.0832 - accuracy: 0.9850 - val_loss: 0.1039 - val_accuracy: 0.9759\n",
            "Epoch 18/25\n",
            "140/140 [==============================] - 594s 4s/step - loss: 0.0815 - accuracy: 0.9852 - val_loss: 0.1011 - val_accuracy: 0.9757\n",
            "Epoch 19/25\n",
            "140/140 [==============================] - 595s 4s/step - loss: 0.0788 - accuracy: 0.9856 - val_loss: 0.1040 - val_accuracy: 0.9757\n",
            "Epoch 20/25\n",
            "140/140 [==============================] - 595s 4s/step - loss: 0.0762 - accuracy: 0.9860 - val_loss: 0.0963 - val_accuracy: 0.9763\n",
            "Epoch 21/25\n",
            "140/140 [==============================] - 595s 4s/step - loss: 0.0742 - accuracy: 0.9862 - val_loss: 0.0958 - val_accuracy: 0.9765\n",
            "Epoch 22/25\n",
            "140/140 [==============================] - 595s 4s/step - loss: 0.0725 - accuracy: 0.9863 - val_loss: 0.0948 - val_accuracy: 0.9765\n",
            "Epoch 23/25\n",
            "140/140 [==============================] - 597s 4s/step - loss: 0.0705 - accuracy: 0.9866 - val_loss: 0.0959 - val_accuracy: 0.9765\n",
            "Epoch 24/25\n",
            "140/140 [==============================] - 596s 4s/step - loss: 0.0683 - accuracy: 0.9868 - val_loss: 0.0919 - val_accuracy: 0.9768\n",
            "Epoch 25/25\n",
            "140/140 [==============================] - 596s 4s/step - loss: 0.0672 - accuracy: 0.9868 - val_loss: 0.0893 - val_accuracy: 0.9767\n"
          ]
        }
      ],
      "source": [
        "def train_model(Xtrainloader, ytrainloader, Xtestloader, ytestloader, epochs, metric_i, input_shape):\n",
        "    \"\"\"\n",
        "    This function trains a model with the given data and parameters.\n",
        "\n",
        "    Parameters:\n",
        "    Xtrainloader (numpy array): Array of training data images.\n",
        "    ytrainloader (numpy array): Array of training data masks.\n",
        "    Xtestloader (numpy array): Array of test data images.\n",
        "    ytestloader (numpy array): Array of test data masks.\n",
        "    epochs (int): Number of epochs to train the model for.\n",
        "    metric_i (int): Index of the metric to use for evaluation.\n",
        "    input_shape (tuple): Shape of the input data.\n",
        "\n",
        "    Returns:\n",
        "    Keras model: Trained model.\n",
        "    \"\"\"\n",
        "    # Load the model, along with loss, metrics\n",
        "    model = get_Unet(input_shape)\n",
        "    loss = 'binary_crossentropy'\n",
        "    metrics = ['accuracy', tf.keras.metrics.IoU(num_classes=2, target_class_ids=[0])]\n",
        "\n",
        "    # Compile the model\n",
        "    model.compile(optimizer=Adam(learning_rate = 1e-5),\n",
        "                                loss=loss,\n",
        "                                metrics=[metrics[metric_i]])\n",
        "\n",
        "    # Fit the model\n",
        "    fitted = model.fit(x=Xtrainloader, y=ytrainloader,\n",
        "                        batch_size = 10,\n",
        "                        verbose=1,\n",
        "                        epochs=epochs,\n",
        "                        validation_data=(Xtestloader, ytestloader),\n",
        "                        # sample_weight = weights\n",
        "                        )\n",
        "\n",
        "    return model, fitted\n",
        "\n",
        "# Number of epochs\n",
        "epochs = 25\n",
        "\n",
        "metric_i = 0\n",
        "\n",
        "input_shape = (Xtrainloader.shape[1], Xtrainloader.shape[2], 1)\n",
        "\n",
        "print(f'Input shape is: {input_shape}')\n",
        "\n",
        "# Train the model\n",
        "model, fitted = train_model(Xtrainloader, ytrainloader, Xtestloader, ytestloader, epochs, metric_i, input_shape)"
      ]
    },
    {
      "cell_type": "code",
      "execution_count": null,
      "metadata": {
        "id": "spKlTdoZfpYu"
      },
      "outputs": [],
      "source": [
        "# model.save('./saved_models/m_segmentation_2Q_64x64_25E_2000imgs.hdf5')"
      ]
    },
    {
      "cell_type": "code",
      "execution_count": null,
      "metadata": {
        "id": "TIzjB2cAB7hG"
      },
      "outputs": [],
      "source": [
        "# Epoch range\n",
        "epoch_range = np.arange(1, epochs + 1)\n",
        "\n",
        "fitted_train = ['accuracy', 'io_u']\n",
        "fitted_val = ['val_accuracy', 'val_io_u']\n",
        "\n",
        "# Load in losses and accuracies\n",
        "loss =  fitted.history['loss']\n",
        "val_loss = fitted.history['val_loss']\n",
        "accuracy = fitted.history[fitted_train[metric_i]]\n",
        "val_accuracy = fitted.history[fitted_val[metric_i]]"
      ]
    },
    {
      "cell_type": "code",
      "execution_count": null,
      "metadata": {
        "id": "IVsI6LJHm19t",
        "colab": {
          "base_uri": "https://localhost:8080/",
          "height": 573
        },
        "outputId": "f5de6b1c-fbb3-4182-c932-316b7470d0a7"
      },
      "outputs": [
        {
          "output_type": "display_data",
          "data": {
            "text/plain": [
              "<Figure size 432x288 with 1 Axes>"
            ],
            "image/png": "[encoded data removed]"
          },
          "metadata": {
            "needs_background": "light"
          }
        },
        {
          "output_type": "display_data",
          "data": {
            "text/plain": [
              "<Figure size 432x288 with 1 Axes>"
            ],
            "image/png": "[encoded data removed]"
          },
          "metadata": {
            "needs_background": "light"
          }
        }
      ],
      "source": [
        "# Accuracy plot\n",
        "plt.plot(epoch_range, accuracy, label='TA')\n",
        "plt.plot(epoch_range, val_accuracy, label='VA')\n",
        "\n",
        "plt.title('Accuracy vs. Epoch')\n",
        "plt.xlabel('Epoch')\n",
        "plt.ylabel('Accuracy')\n",
        "plt.legend()\n",
        "plt.show()\n",
        "\n",
        "\n",
        "# Loss plot\n",
        "plt.plot(epoch_range, loss, label='TL')\n",
        "plt.plot(epoch_range, val_loss, label='VL')\n",
        "\n",
        "plt.title('Loss vs. Epoch')\n",
        "plt.xlabel('Epoch')\n",
        "plt.ylabel('Loss')\n",
        "plt.legend()\n",
        "plt.show()\n"
      ]
    },
    {
      "cell_type": "code",
      "execution_count": null,
      "metadata": {
        "id": "B0RE5Q9CwBTc"
      },
      "outputs": [],
      "source": [
        "model = load_model('./saved_models/m_segmentation_2Q_64x64_25E_2000imgs.hdf5')"
      ]
    },
    {
      "cell_type": "code",
      "execution_count": null,
      "metadata": {
        "id": "Y3qX5PrPMz7p",
        "colab": {
          "base_uri": "https://localhost:8080/"
        },
        "outputId": "e14d1e99-37f4-41ee-e975-9cb384b5552c"
      },
      "outputs": [
        {
          "output_type": "stream",
          "name": "stdout",
          "text": [
            "19/19 [==============================] - 60s 3s/step\n"
          ]
        }
      ],
      "source": [
        "# Predict images based on testloader\n",
        "ypredicted=model.predict(Xtestloader)"
      ]
    },
    {
      "cell_type": "code",
      "execution_count": null,
      "metadata": {
        "id": "n1V_fY349FID",
        "colab": {
          "base_uri": "https://localhost:8080/",
          "height": 279
        },
        "outputId": "53b17bcb-1ca7-4195-f303-366e43eafb0a"
      },
      "outputs": [
        {
          "output_type": "stream",
          "name": "stdout",
          "text": [
            "[0.01114066 0.01541365 0.01581125 ... 0.9999999  0.99999994 1.        ]\n"
          ]
        },
        {
          "output_type": "display_data",
          "data": {
            "text/plain": [
              "<Figure size 864x288 with 3 Axes>"
            ],
            "image/png": "[encoded data removed]"
          },
          "metadata": {
            "needs_background": "light"
          }
        }
      ],
      "source": [
        "# Set the index of the image to be plotted\n",
        "img_i = random.randrange(0, len(Xtestloader))\n",
        "\n",
        "# Set the threshold for converting the predicted output to binary\n",
        "threshold = 0.5\n",
        "\n",
        "# Print the unique values of the predicted output (these are probabilities)\n",
        "print(np.unique(ypredicted[img_i, :, :, 0]))\n",
        "\n",
        "# Define titles and data loaders\n",
        "titles = ['Input', 'Output', 'Predicted Output']\n",
        "dataloaders = [Xtestloader, ytestloader, ypredicted]\n",
        "\n",
        "# Create a figure with 1 row and 3 columns\n",
        "fig, axs = plt.subplots(nrows=1, ncols=3, figsize=(12, 4))\n",
        "\n",
        "# Iterate through each subplot and plot the corresponding data loader\n",
        "for i, ax in enumerate(axs.flatten()):\n",
        "    # If this is the predicted output subplot, use a threshold to convert it to binary\n",
        "    if i == 2:\n",
        "        plt.sca(ax)\n",
        "        plt.imshow(dataloaders[i][img_i, :, :, 0] >= threshold, cmap='gray')\n",
        "        plt.title('Predicted Output')\n",
        "    # For the other subplots, simply plot the data\n",
        "    else:\n",
        "        plt.sca(ax)\n",
        "        plt.imshow(dataloaders[i][img_i, :, :, 0], cmap='gray')\n",
        "        plt.title(f'{titles[i]}')\n",
        "\n",
        "# Show the figure\n",
        "plt.show()"
      ]
    }
  ],
  "metadata": {
    "anaconda-cloud": {},
    "colab": {
      "provenance": []
    },
    "kernelspec": {
      "display_name": "Python 3",
      "language": "python",
      "name": "python3"
    },
    "language_info": {
      "codemirror_mode": {
        "name": "ipython",
        "version": 3
      },
      "file_extension": ".py",
      "mimetype": "text/x-python",
      "name": "python",
      "nbconvert_exporter": "python",
      "pygments_lexer": "ipython3",
      "version": "3.8.8"
    }
  },
  "nbformat": 4,
  "nbformat_minor": 0
}